{
  "nbformat": 4,
  "nbformat_minor": 0,
  "metadata": {
    "colab": {
      "provenance": [],
      "authorship_tag": "ABX9TyMg3Ag1YjazkYkSBnUqUHLS",
      "include_colab_link": true
    },
    "kernelspec": {
      "name": "python3",
      "display_name": "Python 3"
    },
    "language_info": {
      "name": "python"
    }
  },
  "cells": [
    {
      "cell_type": "markdown",
      "metadata": {
        "id": "view-in-github",
        "colab_type": "text"
      },
      "source": [
        "<a href=\"https://colab.research.google.com/github/wnsports/SportsAnalyticsNotebook/blob/main/tutorials/socceraction_tutorial_loaddata_2.ipynb\" target=\"_parent\"><img src=\"https://colab.research.google.com/assets/colab-badge.svg\" alt=\"Open In Colab\"/></a>"
      ]
    },
    {
      "cell_type": "markdown",
      "source": [
        "Installation"
      ],
      "metadata": {
        "id": "BkwfIE0WhATK"
      }
    },
    {
      "cell_type": "code",
      "execution_count": null,
      "metadata": {
        "id": "Mu5oqcpHg2oC"
      },
      "outputs": [],
      "source": [
        "!pip install -q \"socceraction[statsbomb]\""
      ]
    },
    {
      "cell_type": "code",
      "source": [
        "!pip install -q matplotsoccer"
      ],
      "metadata": {
        "id": "lqU7W6B3hvgA"
      },
      "execution_count": null,
      "outputs": []
    },
    {
      "cell_type": "markdown",
      "source": [
        "Get OpenData with StatsBomb"
      ],
      "metadata": {
        "id": "oRVWTbpBhEgI"
      }
    },
    {
      "cell_type": "code",
      "source": [
        "import warnings\n",
        "from statsbombpy.api_client import NoAuthWarning\n",
        "warnings.simplefilter('ignore', NoAuthWarning)\n",
        "\n",
        "from socceraction.data.statsbomb import StatsBombLoader\n",
        "\n",
        "api = StatsBombLoader(getter=\"remote\", creds=None)"
      ],
      "metadata": {
        "id": "m3-wWfrShF0Q"
      },
      "execution_count": 1,
      "outputs": []
    },
    {
      "cell_type": "code",
      "source": [
        "df_competitions = api.competitions()\n",
        "df_competitions"
      ],
      "metadata": {
        "id": "_70PkAbFiM7u"
      },
      "execution_count": null,
      "outputs": []
    },
    {
      "cell_type": "code",
      "source": [
        "import socceraction.spadl as spadl\n",
        "game_id = 22912\n",
        "df_teams = api.teams(game_id)\n",
        "df_players = api.players(game_id)\n",
        "df_events = api.events(game_id)\n",
        "\n",
        "df_games = api.games(competition_id=16, season_id=4).set_index(\"game_id\")\n",
        "df_games"
      ],
      "metadata": {
        "id": "PFkNKvrWhLvI"
      },
      "execution_count": null,
      "outputs": []
    },
    {
      "cell_type": "code",
      "source": [
        "home_team_id = df_games.at[game_id, \"home_team_id\"]\n",
        "df_actions = spadl.statsbomb.convert_to_actions(df_events, home_team_id)"
      ],
      "metadata": {
        "id": "owCnxkSAikYY"
      },
      "execution_count": null,
      "outputs": []
    },
    {
      "cell_type": "code",
      "source": [
        "df_actions.head()"
      ],
      "metadata": {
        "id": "64EoYFVvhoiN"
      },
      "execution_count": null,
      "outputs": []
    },
    {
      "cell_type": "code",
      "source": [
        "# visualize soccer\n",
        "import matplotsoccer as mps\n",
        "\n",
        "# Select relevant actions\n",
        "df_actions_goal = df_actions.loc[200:225]\n",
        "# Replace result, actiontype and bodypart IDs by their corresponding name\n",
        "df_actions_goal = spadl.add_names(df_actions_goal)\n",
        "# Add team and player names\n",
        "df_actions_goal = df_actions_goal.merge(df_teams).merge(df_players)\n",
        "# Create the plot\n",
        "mps.actions(\n",
        "    location=df_actions_goal[[\"start_x\", \"start_y\", \"end_x\", \"end_y\"]],\n",
        "    action_type=df_actions_goal.type_name,\n",
        "    team=df_actions_goal.team_name,\n",
        "    result=df_actions_goal.result_name == \"success\",\n",
        "    label=df_actions_goal[[\"time_seconds\", \"type_name\", \"player_name\", \"team_name\"]],\n",
        "    labeltitle=[\"time\", \"actiontype\", \"player\", \"team\"],\n",
        "    zoom=False\n",
        ")"
      ],
      "metadata": {
        "id": "V-rKfPLVhyLW"
      },
      "execution_count": null,
      "outputs": []
    },
    {
      "cell_type": "code",
      "source": [
        "# Statsbomb 360 data\n",
        "game_id=3788741\n",
        "df_events = api.events(game_id=game_id, load_360=True)\n",
        "df_teams = api.teams(game_id)\n",
        "df_players = api.players(game_id)"
      ],
      "metadata": {
        "id": "MCZ6fg97i6sH"
      },
      "execution_count": 28,
      "outputs": []
    },
    {
      "cell_type": "code",
      "source": [
        "home_team_id = list(set(df_events[\"team_id\"].values.tolist()))[0]\n",
        "df_actions = spadl.statsbomb.convert_to_actions(df_events, home_team_id)\n",
        "\n",
        "# visualize soccer\n",
        "import matplotsoccer as mps\n",
        "\n",
        "# Select relevant actions\n",
        "df_actions_goal = df_actions.loc[200:225]\n",
        "# Replace result, actiontype and bodypart IDs by their corresponding name\n",
        "df_actions_goal = spadl.add_names(df_actions_goal)\n",
        "# Add team and player names\n",
        "df_actions_goal = df_actions_goal.merge(df_teams).merge(df_players)\n",
        "# Create the plot\n",
        "mps.actions(\n",
        "    location=df_actions_goal[[\"start_x\", \"start_y\", \"end_x\", \"end_y\"]],\n",
        "    action_type=df_actions_goal.type_name,\n",
        "    team=df_actions_goal.team_name,\n",
        "    result=df_actions_goal.result_name == \"success\",\n",
        "    label=df_actions_goal[[\"time_seconds\", \"type_name\", \"player_name\", \"team_name\"]],\n",
        "    labeltitle=[\"time\", \"actiontype\", \"player\", \"team\"],\n",
        "    zoom=False\n",
        ")"
      ],
      "metadata": {
        "id": "l8NBKPCgkG2U"
      },
      "execution_count": null,
      "outputs": []
    },
    {
      "cell_type": "code",
      "source": [
        "# change dataformat atomicSPADL\n",
        "import socceraction.atomic.spadl as atomicspadl\n",
        "import warnings\n",
        "from statsbombpy.api_client import NoAuthWarning\n",
        "warnings.simplefilter('ignore', NoAuthWarning)\n",
        "\n",
        "from socceraction.data.statsbomb import StatsBombLoader\n",
        "\n",
        "api = StatsBombLoader(getter=\"remote\", creds=None)"
      ],
      "metadata": {
        "id": "MefbkCEymwJ1"
      },
      "execution_count": 41,
      "outputs": []
    },
    {
      "cell_type": "code",
      "source": [
        "competitions = api.competitions()\n",
        "selected_competitions = competitions[\n",
        "    (competitions.competition_name == \"FIFA World Cup\")\n",
        "    & (competitions.season_name == \"2018\")\n",
        "]"
      ],
      "metadata": {
        "id": "gMAUqTCWoL9m"
      },
      "execution_count": 42,
      "outputs": []
    },
    {
      "cell_type": "code",
      "source": [
        "# Get games from all selected competitions\n",
        "import pandas as pd\n",
        "games = pd.concat([\n",
        "    api.games(row.competition_id, row.season_id)\n",
        "    for row in selected_competitions.itertuples()\n",
        "])\n",
        "games[[\"home_team_id\", \"away_team_id\", \"game_date\", \"home_score\", \"away_score\"]]"
      ],
      "metadata": {
        "id": "C7w-Zg5znCAu"
      },
      "execution_count": null,
      "outputs": []
    },
    {
      "cell_type": "code",
      "source": [
        "import tqdm\n",
        "games_verbose = tqdm.tqdm(list(games.itertuples()), desc=\"Loading game data\")\n",
        "teams, players = [], []\n",
        "actions = {}\n",
        "atomic_actions = {}\n",
        "for game in games_verbose:\n",
        "    # load data\n",
        "    teams.append(api.teams(game.game_id))\n",
        "    players.append(api.players(game.game_id))\n",
        "    events = api.events(game.game_id)\n",
        "\n",
        "    # convert data\n",
        "    actions = spadl.statsbomb.convert_to_actions(\n",
        "        events,\n",
        "        home_team_id=game.home_team_id,\n",
        "        xy_fidelity_version=1,\n",
        "        shot_fidelity_version=1\n",
        "    )\n",
        "    atomic_actions[game.game_id] = atomicspadl.convert_to_atomic(actions)\n",
        "\n",
        "teams = pd.concat(teams).drop_duplicates(subset=\"team_id\")\n",
        "players = pd.concat(players)"
      ],
      "metadata": {
        "colab": {
          "base_uri": "https://localhost:8080/"
        },
        "id": "TWK9xPv7nRCF",
        "outputId": "1c4187f6-d45a-454a-8491-35cf660db108"
      },
      "execution_count": 45,
      "outputs": [
        {
          "output_type": "stream",
          "name": "stderr",
          "text": [
            "Loading game data: 100%|██████████| 64/64 [02:42<00:00,  2.54s/it]\n"
          ]
        }
      ]
    },
    {
      "cell_type": "code",
      "source": [
        "import os\n",
        "datafolder = \"/content/data-fifa\"\n",
        "\n",
        "# Create data folder if it doesn't exist\n",
        "if not os.path.exists(datafolder):\n",
        "    os.mkdir(datafolder)\n",
        "    print(f\"Directory {datafolder} created.\")\n",
        "\n",
        "spadl_h5 = os.path.join(datafolder, \"atomic-spadl-statsbomb.h5\")\n",
        "\n",
        "# Store all spadl data in h5-file\n",
        "with pd.HDFStore(spadl_h5) as spadlstore:\n",
        "    spadlstore[\"competitions\"] = selected_competitions\n",
        "    spadlstore[\"games\"] = games\n",
        "    spadlstore[\"teams\"] = teams\n",
        "    spadlstore[\"players\"] = players[['player_id', 'player_name', 'nickname']].drop_duplicates(subset='player_id')\n",
        "    spadlstore[\"player_games\"] = players[['player_id', 'game_id', 'team_id', 'is_starter', 'starting_position_id', 'starting_position_name', 'minutes_played']]\n",
        "    for game_id in atomic_actions.keys():\n",
        "        spadlstore[f\"atomic_actions/game_{game_id}\"] = atomic_actions[game_id]"
      ],
      "metadata": {
        "id": "k-SZI7MooiNv"
      },
      "execution_count": null,
      "outputs": []
    },
    {
      "cell_type": "code",
      "source": [
        "with pd.HDFStore(spadl_h5) as spadlstore:\n",
        "    games = (\n",
        "        spadlstore[\"games\"]\n",
        "        .merge(spadlstore[\"competitions\"], how='left')\n",
        "        .merge(spadlstore[\"teams\"].add_prefix('home_'), how='left')\n",
        "        .merge(spadlstore[\"teams\"].add_prefix('away_'), how='left'))\n",
        "    # Select England vs Belgium game at World Cup\n",
        "    game = games[(games.competition_name == \"FIFA World Cup\")\n",
        "                  & (games.away_team_name == \"England\")\n",
        "                  & (games.home_team_name == \"Belgium\")]\n",
        "    game_id = game.game_id.values[0]\n",
        "    atomic_actions = spadlstore[f\"atomic_actions/game_{game_id}\"]\n",
        "    atomic_actions = (\n",
        "        atomic_actions\n",
        "        .merge(atomicspadl.actiontypes_df(), how=\"left\")\n",
        "        .merge(spadl.bodyparts_df(), how=\"left\")\n",
        "        .merge(spadlstore[\"players\"], how=\"left\")\n",
        "        .merge(spadlstore[\"teams\"], how=\"left\")\n",
        "    )\n",
        "\n",
        "# use nickname if available else use full name\n",
        "atomic_actions[\"player_name\"] = atomic_actions[[\"nickname\", \"player_name\"]].apply(lambda x: x.iloc[0] if x.iloc[0] else x.iloc[1], axis=1)\n",
        "del atomic_actions['nickname']\n",
        "actions[:5]"
      ],
      "metadata": {
        "id": "JzyOUKySom0O"
      },
      "execution_count": null,
      "outputs": []
    },
    {
      "cell_type": "code",
      "source": [
        "# visualize soccer\n",
        "import matplotsoccer as mps\n",
        "\n",
        "# target_actions = atomic_actions[(atomic_actions.type_name == \"goal\")]\n",
        "target_actions = atomic_actions[100:110]\n",
        "\n",
        "for shot in list(target_actions.index):\n",
        "    a = atomic_actions[shot-7:shot+1].copy()\n",
        "\n",
        "    a[\"start_x\"] = a.x\n",
        "    a[\"start_y\"] = a.y\n",
        "    a[\"end_x\"] = a.x + a.dx\n",
        "    a[\"end_y\"] = a.y + a.dy\n",
        "\n",
        "    g = game.iloc[0]\n",
        "    minute = int((a.period_id.values[0] - 1) * 45 + a.time_seconds.values[0] // 60)\n",
        "    game_info = f\"{g.game_date} {g.home_team_name} {g.home_score}-{g.away_score} {g.away_team_name} {minute + 1}'\"\n",
        "    print(game_info)\n",
        "\n",
        "    def nice_time(row):\n",
        "        minute = int((row.period_id-1) * 45 + row.time_seconds // 60)\n",
        "        second = int(row.time_seconds % 60)\n",
        "        return f\"{minute}m{second}s\"\n",
        "\n",
        "    a[\"nice_time\"] = a.apply(nice_time,axis=1)\n",
        "    labels = a[[\"nice_time\", \"type_name\", \"player_name\", \"team_name\"]]\n",
        "\n",
        "    mps.actions(\n",
        "        location=a[[\"start_x\", \"start_y\", \"end_x\", \"end_y\"]],\n",
        "        action_type=a.type_name,\n",
        "        team= a.team_name,\n",
        "        label=labels,\n",
        "        labeltitle=[\"time\", \"actiontype\", \"player_name\", \"team\"],\n",
        "        zoom=False,\n",
        "        figsize=6\n",
        "    )"
      ],
      "metadata": {
        "id": "vLg7h8cvnKK0"
      },
      "execution_count": null,
      "outputs": []
    }
  ]
}