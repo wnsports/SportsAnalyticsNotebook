{
  "nbformat": 4,
  "nbformat_minor": 0,
  "metadata": {
    "colab": {
      "provenance": [],
      "authorship_tag": "ABX9TyPiT2q7T4TKkJrjPQApaPO5",
      "include_colab_link": true
    },
    "kernelspec": {
      "name": "python3",
      "display_name": "Python 3"
    },
    "language_info": {
      "name": "python"
    }
  },
  "cells": [
    {
      "cell_type": "markdown",
      "metadata": {
        "id": "view-in-github",
        "colab_type": "text"
      },
      "source": [
        "<a href=\"https://colab.research.google.com/github/wnsports/SportsAnalyticsNotebook/blob/main/tutorials/socceraction_tutorial_1.ipynb\" target=\"_parent\"><img src=\"https://colab.research.google.com/assets/colab-badge.svg\" alt=\"Open In Colab\"/></a>"
      ]
    },
    {
      "cell_type": "markdown",
      "source": [
        "## 内容\n",
        "\n",
        "- socceractionのインストール\n",
        "- statsbombのデータを利用したActionデータへの置き換え\n",
        "- Actionデータの可視化\n",
        "- Action Valueを用いた行動評価値モデルのトレーニングとそのモデルを用いた解析"
      ],
      "metadata": {
        "id": "vZGxmjIA5GCf"
      }
    },
    {
      "cell_type": "markdown",
      "source": [
        "Installation"
      ],
      "metadata": {
        "id": "6wp_bMZ4wMVK"
      }
    },
    {
      "cell_type": "code",
      "execution_count": null,
      "metadata": {
        "id": "NF4JfEJVvMRu"
      },
      "outputs": [],
      "source": [
        "!pip install -q socceraction\n",
        "!pip install -q statsbombpy"
      ]
    },
    {
      "cell_type": "code",
      "source": [
        "!pip install -q matplotsoccer"
      ],
      "metadata": {
        "id": "4NQ_hjbRxpwP"
      },
      "execution_count": null,
      "outputs": []
    },
    {
      "cell_type": "markdown",
      "source": [
        "Load Event Data from statsbomb or wyscout"
      ],
      "metadata": {
        "id": "y9IlG1AYwTQY"
      }
    },
    {
      "cell_type": "code",
      "source": [
        "import pandas as pd\n",
        "from socceraction.data.statsbomb import StatsBombLoader\n",
        "\n",
        "# Set up the StatsBomb data loader\n",
        "SBL = StatsBombLoader()\n",
        "\n",
        "# View all available competitions\n",
        "df_competitions = SBL.competitions()"
      ],
      "metadata": {
        "colab": {
          "base_uri": "https://localhost:8080/"
        },
        "id": "kP2B2dvCwXE7",
        "outputId": "2b901a3e-4f04-4ccc-fd45-79640a290484"
      },
      "execution_count": 1,
      "outputs": [
        {
          "output_type": "stream",
          "name": "stderr",
          "text": [
            "/usr/local/lib/python3.10/dist-packages/statsbombpy/api_client.py:21: NoAuthWarning: credentials were not supplied. open data access only\n",
            "  warnings.warn(\n"
          ]
        }
      ]
    },
    {
      "cell_type": "code",
      "source": [
        "set(df_competitions[\"competition_id\"].values)"
      ],
      "metadata": {
        "colab": {
          "base_uri": "https://localhost:8080/"
        },
        "id": "bLAH_LTjw160",
        "outputId": "a83a1fbd-15d1-4366-b399-d1e98fb3b85e"
      },
      "execution_count": 5,
      "outputs": [
        {
          "output_type": "execute_result",
          "data": {
            "text/plain": [
              "{2, 7, 9, 11, 12, 16, 35, 37, 43, 44, 49, 53, 55, 72, 81, 87, 116, 1238, 1470}"
            ]
          },
          "metadata": {},
          "execution_count": 5
        }
      ]
    },
    {
      "cell_type": "code",
      "source": [
        "# Create a dataframe with all games from the 2018 World Cup\n",
        "df_games = SBL.games(competition_id=43, season_id=3).set_index(\"game_id\")\n",
        "df_games.head()"
      ],
      "metadata": {
        "id": "u4fNxXUUwdNV"
      },
      "execution_count": null,
      "outputs": []
    },
    {
      "cell_type": "markdown",
      "source": [
        "Converting SPADL data"
      ],
      "metadata": {
        "id": "qJpFgyqbxLIX"
      }
    },
    {
      "cell_type": "code",
      "source": [
        "import socceraction.spadl as spadl\n",
        "\n",
        "# df_teams, df_players, df_events, df_gamesあたりのデータセットの作成の仕方について学ぶ\n",
        "\n",
        "game_id = 8657\n",
        "df_teams = SBL.teams(game_id)\n",
        "df_players = SBL.players(game_id)\n",
        "df_events = SBL.events(game_id)\n",
        "\n",
        "home_team_id = df_games.at[game_id, \"home_team_id\"]\n",
        "df_actions = spadl.statsbomb.convert_to_actions(df_events, home_team_id)"
      ],
      "metadata": {
        "id": "-BzTtjsYxM55"
      },
      "execution_count": null,
      "outputs": []
    },
    {
      "cell_type": "code",
      "source": [
        "# start_x, start_y, end_x, end_y, type_id, result_id, bodypart_id, action_id\n",
        "df_actions.head()"
      ],
      "metadata": {
        "id": "6D03pO_QxSkZ"
      },
      "execution_count": null,
      "outputs": []
    },
    {
      "cell_type": "code",
      "source": [
        "# visualize soccer\n",
        "import matplotsoccer as mps\n",
        "\n",
        "# Select relevant actions\n",
        "df_actions_goal = df_actions.loc[200:225]\n",
        "# Replace result, actiontype and bodypart IDs by their corresponding name\n",
        "df_actions_goal = spadl.add_names(df_actions_goal)\n",
        "# Add team and player names\n",
        "df_actions_goal = df_actions_goal.merge(df_teams).merge(df_players)\n",
        "# Create the plot\n",
        "mps.actions(\n",
        "    location=df_actions_goal[[\"start_x\", \"start_y\", \"end_x\", \"end_y\"]],\n",
        "    action_type=df_actions_goal.type_name,\n",
        "    team=df_actions_goal.team_name,\n",
        "    result=df_actions_goal.result_name == \"success\",\n",
        "    label=df_actions_goal[[\"time_seconds\", \"type_name\", \"player_name\", \"team_name\"]],\n",
        "    labeltitle=[\"time\", \"actiontype\", \"player\", \"team\"],\n",
        "    zoom=False\n",
        ")"
      ],
      "metadata": {
        "id": "62x9vOjnxkWq"
      },
      "execution_count": null,
      "outputs": []
    },
    {
      "cell_type": "markdown",
      "source": [
        "Valuing Actions"
      ],
      "metadata": {
        "id": "TPvMFL41yi5u"
      }
    },
    {
      "cell_type": "code",
      "source": [
        "# その行動の寄与度について3つの評価のフレームワークを準備 -> xT, VAEP, Atomic-Vaep\n",
        "# This time, xT\n",
        "# xTは、シーズンとかリーグを通して学習されるもの\n",
        "# 今回のxTについてはあるリーグの通年のものから算出されたM*N Gridを用いる"
      ],
      "metadata": {
        "id": "MtTfiq1dylSE"
      },
      "execution_count": null,
      "outputs": []
    },
    {
      "cell_type": "code",
      "source": [
        "import socceraction.xthreat as xthreat\n",
        "\n",
        "url_grid = \"https://karun.in/blog/data/open_xt_12x8_v1.json\"\n",
        "xT_model = xthreat.load_model(url_grid)"
      ],
      "metadata": {
        "id": "vk-5BzwnzV4s"
      },
      "execution_count": 13,
      "outputs": []
    },
    {
      "cell_type": "code",
      "source": [
        "df_actions_ltr = spadl.play_left_to_right(df_actions, home_team_id)\n",
        "df_actions[\"xT_value\"] = xT_model.rate(df_actions_ltr)"
      ],
      "metadata": {
        "id": "sQ5mgOktzY43"
      },
      "execution_count": 15,
      "outputs": []
    },
    {
      "cell_type": "code",
      "source": [
        "# Create the plot\n",
        "# Select relevant actions\n",
        "df_actions_goal = df_actions.loc[100:125]\n",
        "# Replace result, actiontype and bodypart IDs by their corresponding name\n",
        "df_actions_goal = spadl.add_names(df_actions_goal)\n",
        "# Add team and player names\n",
        "df_actions_goal = df_actions_goal.merge(df_teams).merge(df_players)\n",
        "\n",
        "mps.actions(\n",
        "    location=df_actions_goal[[\"start_x\", \"start_y\", \"end_x\", \"end_y\"]],\n",
        "    action_type=df_actions_goal.type_name,\n",
        "    team=df_actions_goal.team_name,\n",
        "    result=df_actions_goal.result_name == \"success\",\n",
        "    label=df_actions_goal[[\"time_seconds\", \"type_name\", \"player_name\", \"team_name\", \"xT_value\"]],\n",
        "    labeltitle=[\"time\", \"actiontype\", \"player\", \"team\", \"xT\"],\n",
        "    zoom=False\n",
        ")"
      ],
      "metadata": {
        "id": "SQr1NRNVzkBn"
      },
      "execution_count": null,
      "outputs": []
    },
    {
      "cell_type": "markdown",
      "source": [
        "Training own xT model"
      ],
      "metadata": {
        "id": "6a3QrTz6z-Vt"
      }
    },
    {
      "cell_type": "code",
      "source": [
        "import pandas as pd\n",
        "from socceraction.data.statsbomb import StatsBombLoader\n",
        "import socceraction.spadl as spadl\n",
        "import socceraction.xthreat as xthreat\n",
        "\n",
        "# 1. Load a set of actions to train the model on\n",
        "SBL = StatsBombLoader()\n",
        "df_games = SBL.games(competition_id=43, season_id=3)\n",
        "\n",
        "dataset = [\n",
        "    {\n",
        "        **game,\n",
        "        'actions': spadl.statsbomb.convert_to_actions(\n",
        "            events=SBL.events(game['game_id']),\n",
        "            home_team_id=game['home_team_id']\n",
        "        )\n",
        "    }\n",
        "    for game in df_games.to_dict(orient='records')\n",
        "]"
      ],
      "metadata": {
        "id": "wsKCXEHD0Aye"
      },
      "execution_count": null,
      "outputs": []
    },
    {
      "cell_type": "code",
      "source": [
        "# 2. Convert direction of play + add names\n",
        "df_actions_ltr = pd.concat([\n",
        "  spadl.play_left_to_right(game['actions'], game['home_team_id'])\n",
        "  for game in dataset\n",
        "])\n",
        "df_actions_ltr = spadl.add_names(df_actions_ltr)"
      ],
      "metadata": {
        "id": "aLWJoMA50nTj"
      },
      "execution_count": 2,
      "outputs": []
    },
    {
      "cell_type": "code",
      "source": [
        "# 3. Train xT model with 16 x 12 grid\n",
        "xTModel = xthreat.ExpectedThreat(l=16, w=12)\n",
        "xTModel.fit(df_actions_ltr)"
      ],
      "metadata": {
        "colab": {
          "base_uri": "https://localhost:8080/"
        },
        "id": "5ELe7BkZ09rZ",
        "outputId": "148976f8-bcf5-476a-b59b-15af195c9fa0"
      },
      "execution_count": 3,
      "outputs": [
        {
          "output_type": "stream",
          "name": "stdout",
          "text": [
            "# iterations:  44\n"
          ]
        },
        {
          "output_type": "execute_result",
          "data": {
            "text/plain": [
              "<socceraction.xthreat.ExpectedThreat at 0x7870ed121d50>"
            ]
          },
          "metadata": {},
          "execution_count": 3
        }
      ]
    },
    {
      "cell_type": "code",
      "source": [
        "# Visualize xT model with soccer plot\n",
        "import matplotsoccer as mps\n",
        "game_id = 8657\n",
        "\n",
        "df_teams = SBL.teams(game_id)\n",
        "df_players = SBL.players(game_id)\n",
        "df_events = SBL.events(game_id)\n",
        "\n",
        "df_games_index = df_games.set_index(\"game_id\")\n",
        "home_team_id = df_games_index.at[game_id, \"home_team_id\"]\n",
        "df_actions = spadl.statsbomb.convert_to_actions(df_events, home_team_id)\n",
        "df_actions_ltr = spadl.play_left_to_right(df_actions, home_team_id)\n",
        "df_actions[\"xT_value\"] = xTModel.rate(df_actions_ltr)\n",
        "\n",
        "# Select relevant actions\n",
        "df_actions_goal = df_actions.loc[100:125]\n",
        "# Replace result, actiontype and bodypart IDs by their corresponding name\n",
        "df_actions_goal = spadl.add_names(df_actions_goal)\n",
        "# Add team and player names\n",
        "df_actions_goal = df_actions_goal.merge(df_teams).merge(df_players)\n",
        "\n",
        "mps.actions(\n",
        "    location=df_actions_goal[[\"start_x\", \"start_y\", \"end_x\", \"end_y\"]],\n",
        "    action_type=df_actions_goal.type_name,\n",
        "    team=df_actions_goal.team_name,\n",
        "    result=df_actions_goal.result_name == \"success\",\n",
        "    label=df_actions_goal[[\"time_seconds\", \"type_name\", \"player_name\", \"team_name\", \"xT_value\"]],\n",
        "    labeltitle=[\"time\", \"actiontype\", \"player\", \"team\", \"xT\"],\n",
        "    zoom=False\n",
        ")"
      ],
      "metadata": {
        "id": "Gm9Ti08H2k3I"
      },
      "execution_count": null,
      "outputs": []
    }
  ]
}